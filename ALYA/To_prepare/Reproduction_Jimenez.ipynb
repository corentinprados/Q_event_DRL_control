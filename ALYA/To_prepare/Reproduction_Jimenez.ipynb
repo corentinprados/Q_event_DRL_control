{
 "cells": [
  {
   "cell_type": "markdown",
   "id": "618dfdcd-7895-40c9-ab99-57a02f4f2f3d",
   "metadata": {},
   "source": [
    "From \"Spectra of the very large anisotropic scales in turbulent channels\" of  \"Juan C. del Alamo and Javier Jimenez\"\n",
    "\n",
    "| Parameter   | Explanation                     | Choice Made |\n",
    "|-------------|---------------------------------|-------------|\n",
    "| $Re_{\\tau}$ | Reynolds number                 | 180         |\n",
    "| Ly          | Height of the domain            | $2h$        |\n",
    "| Lx          | Length of the domain            | $12\\pi h$   |\n",
    "| Lz          | Width of the domain             | $4\\pi h$    |\n",
    "| Ny          | Resolution in the y-direction   | ?           |\n",
    "| Nx          | Resolution in the x-direction   | ?           |\n",
    "| Nz          | Resolution in the z-direction   | ?           |\n",
    "| $\\Delta y^+$| y **max** scale step            | 6.1         |\n",
    "| $\\Delta x^+$| x scale step                    | 8.9 or 7-8        |\n",
    "| $\\Delta z^+$| z scale step                    | 4.5  or 3-4        |\n",
    "| CFL         | CFL safety factor               | ?           |\n",
    "| $tU_b/L_x$  | Time of the simulation          | 22          |\n",
    "\n",
    "- $U_b$ is the mean value of the streamwise velocity.\n",
    "- $h$ : channel half width.\n",
    "- 10 wash-out times are needed to have confidence in the statistics of the largest scales.\n",
    "- The minimum $y$ scale need to be computed thanks to Chbysev formulas. \n",
    "-> ** What is a wash-out ime ?\n",
    "- The statistics were collected for the times given above after discarding initial transients.\n",
    "\n",
    "## Questions\n",
    "- What are the resolution ? Can we calculate it from $Lx$ and $\\Delta x^+$ for example ? (I did it and it gives 788 for Nx and 520 for Nz, seems quite big...)\n",
    "- What is a wash-out time ?\n",
    "- What is the CFL safety factor ?\n",
    "- Is the timestep fixed ? If yes what is its value ?\n",
    "- How frequent where the snapshots for the simulation ?\n",
    "- Was the forcing pressure driven or mass driven ?\n",
    "- Was the statistics performed on instantaneous field or on average between two timesteps? "
   ]
  },
  {
   "cell_type": "code",
   "execution_count": 4,
   "id": "b862a80b-7127-4dcb-8f81-8816178e50e3",
   "metadata": {},
   "outputs": [],
   "source": [
    "import numpy as np\n",
    "\n",
    "delta = 0.005376316864804261\n",
    "\n",
    "x = 8.9\n",
    "dx = x*delta\n",
    "\n",
    "Lx = 12*np.pi\n",
    "\n",
    "Nx = Lx/dx\n",
    "# Nx = Lx/7\n",
    "\n",
    "z = 4.5\n",
    "dz = z*delta\n",
    "\n",
    "Lz = 4*np.pi\n",
    "\n",
    "Nz = Lz/dz"
   ]
  },
  {
   "cell_type": "code",
   "execution_count": 3,
   "id": "6c024769-bc4b-4794-ba38-c896aff4c1e1",
   "metadata": {},
   "outputs": [
    {
     "data": {
      "text/plain": [
       "5.385587406153931"
      ]
     },
     "execution_count": 3,
     "metadata": {},
     "output_type": "execute_result"
    }
   ],
   "source": [
    "Nx"
   ]
  },
  {
   "cell_type": "code",
   "execution_count": 7,
   "id": "e8d75fd0-25d0-4700-ae56-60424e497410",
   "metadata": {},
   "outputs": [
    {
     "data": {
      "text/plain": [
       "519.4126152556294"
      ]
     },
     "execution_count": 7,
     "metadata": {},
     "output_type": "execute_result"
    }
   ],
   "source": [
    "Nz"
   ]
  },
  {
   "cell_type": "code",
   "execution_count": 5,
   "id": "20831740-de86-40a3-ac9d-8e9ecd748fd5",
   "metadata": {},
   "outputs": [
    {
     "data": {
      "text/plain": [
       "0.16128950594412783"
      ]
     },
     "execution_count": 5,
     "metadata": {},
     "output_type": "execute_result"
    }
   ],
   "source": [
    "delta*30"
   ]
  },
  {
   "cell_type": "code",
   "execution_count": null,
   "id": "8222bd01-9dfe-4eb5-9a79-05efbb0dfda1",
   "metadata": {},
   "outputs": [],
   "source": []
  },
  {
   "cell_type": "code",
   "execution_count": null,
   "id": "3b264448-1f20-416f-9fdf-838e08153818",
   "metadata": {},
   "outputs": [],
   "source": []
  },
  {
   "cell_type": "markdown",
   "id": "ba598895-f73e-4584-9bad-c4067b9d1bbb",
   "metadata": {},
   "source": [
    "With Dedalus, I would like to reproduce the simulation from \"Spectra of the very large anisotropic scales in turbulent channels\" of  \"Juan C. del Alamo and Javier Jimenez\" with those parameters :\n",
    "\n",
    "| Parameter   | Explanation                     | Choice Made |\n",
    "|-------------|---------------------------------|-------------|\n",
    "| $Re_{\\tau}$ | Reynolds number                 | 180         |\n",
    "| Ly          | Height of the domain            | $2h$        |\n",
    "| Lx          | Length of the domain            | $12\\pi h$   |\n",
    "| Lz          | Width of the domain             | $4\\pi h$    |\n",
    "| Ny          | Resolution in the y-direction   | ?           |\n",
    "| Nx          | Resolution in the x-direction   | ?           |\n",
    "| Nz          | Resolution in the z-direction   | ?           |\n",
    "| $\\Delta y^+$| y **max** scale step            | 6.1         |\n",
    "| $\\Delta x^+$| x scale step                    | 8.9 or 7-8        |\n",
    "| $\\Delta z^+$| z scale step                    | 4.5  or 3-4        |\n",
    "| CFL         | CFL safety factor               | ?           |\n",
    "| $tU_b/L_x$  | Time of the simulation          | 22          |"
   ]
  }
 ],
 "metadata": {
  "kernelspec": {
   "display_name": "Python 3 (ipykernel)",
   "language": "python",
   "name": "python3"
  },
  "language_info": {
   "codemirror_mode": {
    "name": "ipython",
    "version": 3
   },
   "file_extension": ".py",
   "mimetype": "text/x-python",
   "name": "python",
   "nbconvert_exporter": "python",
   "pygments_lexer": "ipython3",
   "version": "3.9.19"
  }
 },
 "nbformat": 4,
 "nbformat_minor": 5
}
