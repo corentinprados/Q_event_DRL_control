{
 "cells": [
  {
   "cell_type": "markdown",
   "id": "0333848c-e5fa-4f0f-a242-aca86b930ae2",
   "metadata": {},
   "source": [
    "# Importation of useful libraries"
   ]
  },
  {
   "cell_type": "code",
   "execution_count": 110,
   "id": "a22db9ed-d527-43a4-b243-a6a68ef60d43",
   "metadata": {},
   "outputs": [
    {
     "name": "stdout",
     "output_type": "stream",
     "text": [
      "Libraries imported successfully.\n"
     ]
    }
   ],
   "source": [
    "import os\n",
    "import numpy as np\n",
    "import matplotlib.pyplot as plt\n",
    "import xml.etree.ElementTree as ET  # For XML parsing\n",
    "import pyvista as pv  # For reading and processing mesh data\n",
    "import pandas as pd  # For data manipulation and DataFrame creation\n",
    "import plotly.graph_objs as go # For 3D interactive plot\n",
    "from plotly.subplots import make_subplots # For 3D interactive plot\n",
    "from scipy.ndimage import label # Function to count the number of clusters \n",
    "import plotly.express as px # Package to color each clusters different Path # To have an absolute path\n",
    "\n",
    "print(\"Libraries imported successfully.\")"
   ]
  },
  {
   "cell_type": "markdown",
   "id": "dc190326-fa7b-4b45-8834-8b1b9f164c40",
   "metadata": {},
   "source": [
    "# Loading Averaged Data"
   ]
  },
  {
   "cell_type": "code",
   "execution_count": 111,
   "id": "d6aa1a26-3558-4327-9144-40ba8a1f30fe",
   "metadata": {},
   "outputs": [],
   "source": [
    "import os\n",
    "import xml.etree.ElementTree as ET\n",
    "import pandas as pd\n",
    "import pyvista as pv\n",
    "import numpy as np\n",
    "\n",
    "def load_data_and_average_velocity(directory):\n",
    "    \"\"\"\n",
    "    This function loads CFD simulation data from PVTU files, averages the velocity components over time, and \n",
    "    converts the result into a Pandas DataFrame.\n",
    "    \n",
    "    Parameters:\n",
    "    - directory (str): The path to the directory containing the PVD and PVTU files.\n",
    "    \n",
    "    Returns:\n",
    "    - averaged_data (DataFrame): A DataFrame with columns for spatial coordinates (x, y, z) and \n",
    "      time-averaged velocity components (u, v, w).\n",
    "    \"\"\"\n",
    "    \n",
    "    # Parse the PVD file to extract mappings of timesteps to their corresponding PVTU files\n",
    "    pvd_path = os.path.join(directory, 'channel.pvd')\n",
    "    tree = ET.parse(pvd_path)\n",
    "    root = tree.getroot()\n",
    "    file_list = [\n",
    "        os.path.join(directory, dataset.attrib['file'])\n",
    "        for dataset in root.find('Collection')\n",
    "    ]\n",
    "    \n",
    "    # Initialize arrays for accumulating data\n",
    "    sum_u, sum_v, sum_w = None, None, None\n",
    "    count = 0\n",
    "    \n",
    "    # Process each PVTU file\n",
    "    for path in file_list:\n",
    "        mesh = pv.read(path)  # Read the mesh data from the PVTU file\n",
    "        if sum_u is None:\n",
    "            # Initialize sum arrays with zeros having the same shape as the velocity components\n",
    "            sum_u, sum_v, sum_w = mesh['VELOC'].T  # Transpose to separate the components\n",
    "        else:\n",
    "            # Accumulate the velocity components\n",
    "            u, v, w = mesh['VELOC'].T\n",
    "            sum_u += u\n",
    "            sum_v += v\n",
    "            sum_w += w\n",
    "        \n",
    "        count += 1\n",
    "        print(f\"Data from {path} loaded and velocity components added.\")\n",
    "    \n",
    "    # Calculate the average of the velocity components\n",
    "    avg_u = sum_u / count\n",
    "    avg_v = sum_v / count\n",
    "    avg_w = sum_w / count\n",
    "    \n",
    "    # Get the spatial coordinates (assuming they are the same for all files)\n",
    "    points = mesh.points  # x, y, z coordinates\n",
    "    \n",
    "    # Create a DataFrame with the averaged data\n",
    "    averaged_data = pd.DataFrame({\n",
    "        'x': points[:, 0],\n",
    "        'y': points[:, 1],\n",
    "        'z': points[:, 2],\n",
    "        'u': avg_u,\n",
    "        'v': avg_v,\n",
    "        'w': avg_w\n",
    "    })\n",
    "    \n",
    "    print(f\"Total data sets processed: {count}\")\n",
    "    return averaged_data\n"
   ]
  },
  {
   "cell_type": "code",
   "execution_count": 112,
   "id": "7e87d7a7-82f8-43e5-b04c-e9182a74cc88",
   "metadata": {},
   "outputs": [
    {
     "name": "stdout",
     "output_type": "stream",
     "text": [
      "Data from /Users/corentinprados/Documents/Stage_M2/testALYA.nosync/Ancien/long_run/vtk/channel_00000000.pvtu loaded and velocity components added.\n",
      "Data from /Users/corentinprados/Documents/Stage_M2/testALYA.nosync/Ancien/long_run/vtk/channel_00000300.pvtu loaded and velocity components added.\n",
      "Data from /Users/corentinprados/Documents/Stage_M2/testALYA.nosync/Ancien/long_run/vtk/channel_00000600.pvtu loaded and velocity components added.\n",
      "Data from /Users/corentinprados/Documents/Stage_M2/testALYA.nosync/Ancien/long_run/vtk/channel_00000900.pvtu loaded and velocity components added.\n",
      "Data from /Users/corentinprados/Documents/Stage_M2/testALYA.nosync/Ancien/long_run/vtk/channel_00001200.pvtu loaded and velocity components added.\n",
      "Data from /Users/corentinprados/Documents/Stage_M2/testALYA.nosync/Ancien/long_run/vtk/channel_00001500.pvtu loaded and velocity components added.\n",
      "Data from /Users/corentinprados/Documents/Stage_M2/testALYA.nosync/Ancien/long_run/vtk/channel_00001800.pvtu loaded and velocity components added.\n",
      "Data from /Users/corentinprados/Documents/Stage_M2/testALYA.nosync/Ancien/long_run/vtk/channel_00002100.pvtu loaded and velocity components added.\n",
      "Data from /Users/corentinprados/Documents/Stage_M2/testALYA.nosync/Ancien/long_run/vtk/channel_00002400.pvtu loaded and velocity components added.\n",
      "Data from /Users/corentinprados/Documents/Stage_M2/testALYA.nosync/Ancien/long_run/vtk/channel_00002700.pvtu loaded and velocity components added.\n",
      "Data from /Users/corentinprados/Documents/Stage_M2/testALYA.nosync/Ancien/long_run/vtk/channel_00003000.pvtu loaded and velocity components added.\n",
      "Data from /Users/corentinprados/Documents/Stage_M2/testALYA.nosync/Ancien/long_run/vtk/channel_00003300.pvtu loaded and velocity components added.\n",
      "Data from /Users/corentinprados/Documents/Stage_M2/testALYA.nosync/Ancien/long_run/vtk/channel_00003600.pvtu loaded and velocity components added.\n",
      "Data from /Users/corentinprados/Documents/Stage_M2/testALYA.nosync/Ancien/long_run/vtk/channel_00003900.pvtu loaded and velocity components added.\n",
      "Data from /Users/corentinprados/Documents/Stage_M2/testALYA.nosync/Ancien/long_run/vtk/channel_00004200.pvtu loaded and velocity components added.\n",
      "Data from /Users/corentinprados/Documents/Stage_M2/testALYA.nosync/Ancien/long_run/vtk/channel_00004500.pvtu loaded and velocity components added.\n",
      "Data from /Users/corentinprados/Documents/Stage_M2/testALYA.nosync/Ancien/long_run/vtk/channel_00004800.pvtu loaded and velocity components added.\n",
      "Data from /Users/corentinprados/Documents/Stage_M2/testALYA.nosync/Ancien/long_run/vtk/channel_00005100.pvtu loaded and velocity components added.\n",
      "Data from /Users/corentinprados/Documents/Stage_M2/testALYA.nosync/Ancien/long_run/vtk/channel_00005400.pvtu loaded and velocity components added.\n",
      "Data from /Users/corentinprados/Documents/Stage_M2/testALYA.nosync/Ancien/long_run/vtk/channel_00005700.pvtu loaded and velocity components added.\n",
      "Data from /Users/corentinprados/Documents/Stage_M2/testALYA.nosync/Ancien/long_run/vtk/channel_00006000.pvtu loaded and velocity components added.\n",
      "Data from /Users/corentinprados/Documents/Stage_M2/testALYA.nosync/Ancien/long_run/vtk/channel_00006300.pvtu loaded and velocity components added.\n",
      "Data from /Users/corentinprados/Documents/Stage_M2/testALYA.nosync/Ancien/long_run/vtk/channel_00006600.pvtu loaded and velocity components added.\n",
      "Data from /Users/corentinprados/Documents/Stage_M2/testALYA.nosync/Ancien/long_run/vtk/channel_00006900.pvtu loaded and velocity components added.\n",
      "Data from /Users/corentinprados/Documents/Stage_M2/testALYA.nosync/Ancien/long_run/vtk/channel_00007200.pvtu loaded and velocity components added.\n",
      "Data from /Users/corentinprados/Documents/Stage_M2/testALYA.nosync/Ancien/long_run/vtk/channel_00007500.pvtu loaded and velocity components added.\n",
      "Data from /Users/corentinprados/Documents/Stage_M2/testALYA.nosync/Ancien/long_run/vtk/channel_00007800.pvtu loaded and velocity components added.\n",
      "Data from /Users/corentinprados/Documents/Stage_M2/testALYA.nosync/Ancien/long_run/vtk/channel_00008100.pvtu loaded and velocity components added.\n",
      "Data from /Users/corentinprados/Documents/Stage_M2/testALYA.nosync/Ancien/long_run/vtk/channel_00008400.pvtu loaded and velocity components added.\n",
      "Data from /Users/corentinprados/Documents/Stage_M2/testALYA.nosync/Ancien/long_run/vtk/channel_00008700.pvtu loaded and velocity components added.\n",
      "Data from /Users/corentinprados/Documents/Stage_M2/testALYA.nosync/Ancien/long_run/vtk/channel_00009000.pvtu loaded and velocity components added.\n",
      "Data from /Users/corentinprados/Documents/Stage_M2/testALYA.nosync/Ancien/long_run/vtk/channel_00009300.pvtu loaded and velocity components added.\n",
      "Data from /Users/corentinprados/Documents/Stage_M2/testALYA.nosync/Ancien/long_run/vtk/channel_00009600.pvtu loaded and velocity components added.\n",
      "Data from /Users/corentinprados/Documents/Stage_M2/testALYA.nosync/Ancien/long_run/vtk/channel_00009900.pvtu loaded and velocity components added.\n",
      "Data from /Users/corentinprados/Documents/Stage_M2/testALYA.nosync/Ancien/long_run/vtk/channel_00010200.pvtu loaded and velocity components added.\n",
      "Data from /Users/corentinprados/Documents/Stage_M2/testALYA.nosync/Ancien/long_run/vtk/channel_00010500.pvtu loaded and velocity components added.\n",
      "Data from /Users/corentinprados/Documents/Stage_M2/testALYA.nosync/Ancien/long_run/vtk/channel_00010800.pvtu loaded and velocity components added.\n",
      "Data from /Users/corentinprados/Documents/Stage_M2/testALYA.nosync/Ancien/long_run/vtk/channel_00011100.pvtu loaded and velocity components added.\n",
      "Data from /Users/corentinprados/Documents/Stage_M2/testALYA.nosync/Ancien/long_run/vtk/channel_00011400.pvtu loaded and velocity components added.\n",
      "Data from /Users/corentinprados/Documents/Stage_M2/testALYA.nosync/Ancien/long_run/vtk/channel_00011700.pvtu loaded and velocity components added.\n",
      "Data from /Users/corentinprados/Documents/Stage_M2/testALYA.nosync/Ancien/long_run/vtk/channel_00012000.pvtu loaded and velocity components added.\n",
      "Data from /Users/corentinprados/Documents/Stage_M2/testALYA.nosync/Ancien/long_run/vtk/channel_00012300.pvtu loaded and velocity components added.\n",
      "Data from /Users/corentinprados/Documents/Stage_M2/testALYA.nosync/Ancien/long_run/vtk/channel_00012600.pvtu loaded and velocity components added.\n",
      "Data from /Users/corentinprados/Documents/Stage_M2/testALYA.nosync/Ancien/long_run/vtk/channel_00012900.pvtu loaded and velocity components added.\n",
      "Data from /Users/corentinprados/Documents/Stage_M2/testALYA.nosync/Ancien/long_run/vtk/channel_00013200.pvtu loaded and velocity components added.\n",
      "Data from /Users/corentinprados/Documents/Stage_M2/testALYA.nosync/Ancien/long_run/vtk/channel_00013500.pvtu loaded and velocity components added.\n",
      "Data from /Users/corentinprados/Documents/Stage_M2/testALYA.nosync/Ancien/long_run/vtk/channel_00013800.pvtu loaded and velocity components added.\n",
      "Data from /Users/corentinprados/Documents/Stage_M2/testALYA.nosync/Ancien/long_run/vtk/channel_00014100.pvtu loaded and velocity components added.\n",
      "Data from /Users/corentinprados/Documents/Stage_M2/testALYA.nosync/Ancien/long_run/vtk/channel_00014400.pvtu loaded and velocity components added.\n",
      "Data from /Users/corentinprados/Documents/Stage_M2/testALYA.nosync/Ancien/long_run/vtk/channel_00014700.pvtu loaded and velocity components added.\n",
      "Data from /Users/corentinprados/Documents/Stage_M2/testALYA.nosync/Ancien/long_run/vtk/channel_00015000.pvtu loaded and velocity components added.\n",
      "Data from /Users/corentinprados/Documents/Stage_M2/testALYA.nosync/Ancien/long_run/vtk/channel_00015300.pvtu loaded and velocity components added.\n",
      "Data from /Users/corentinprados/Documents/Stage_M2/testALYA.nosync/Ancien/long_run/vtk/channel_00015600.pvtu loaded and velocity components added.\n",
      "Data from /Users/corentinprados/Documents/Stage_M2/testALYA.nosync/Ancien/long_run/vtk/channel_00015900.pvtu loaded and velocity components added.\n",
      "Data from /Users/corentinprados/Documents/Stage_M2/testALYA.nosync/Ancien/long_run/vtk/channel_00016200.pvtu loaded and velocity components added.\n",
      "Data from /Users/corentinprados/Documents/Stage_M2/testALYA.nosync/Ancien/long_run/vtk/channel_00016500.pvtu loaded and velocity components added.\n",
      "Data from /Users/corentinprados/Documents/Stage_M2/testALYA.nosync/Ancien/long_run/vtk/channel_00016800.pvtu loaded and velocity components added.\n",
      "Data from /Users/corentinprados/Documents/Stage_M2/testALYA.nosync/Ancien/long_run/vtk/channel_00017100.pvtu loaded and velocity components added.\n",
      "Data from /Users/corentinprados/Documents/Stage_M2/testALYA.nosync/Ancien/long_run/vtk/channel_00017400.pvtu loaded and velocity components added.\n",
      "Data from /Users/corentinprados/Documents/Stage_M2/testALYA.nosync/Ancien/long_run/vtk/channel_00017700.pvtu loaded and velocity components added.\n",
      "Data from /Users/corentinprados/Documents/Stage_M2/testALYA.nosync/Ancien/long_run/vtk/channel_00018000.pvtu loaded and velocity components added.\n",
      "Data from /Users/corentinprados/Documents/Stage_M2/testALYA.nosync/Ancien/long_run/vtk/channel_00018300.pvtu loaded and velocity components added.\n",
      "Data from /Users/corentinprados/Documents/Stage_M2/testALYA.nosync/Ancien/long_run/vtk/channel_00018600.pvtu loaded and velocity components added.\n",
      "Data from /Users/corentinprados/Documents/Stage_M2/testALYA.nosync/Ancien/long_run/vtk/channel_00018900.pvtu loaded and velocity components added.\n",
      "Data from /Users/corentinprados/Documents/Stage_M2/testALYA.nosync/Ancien/long_run/vtk/channel_00019200.pvtu loaded and velocity components added.\n",
      "Data from /Users/corentinprados/Documents/Stage_M2/testALYA.nosync/Ancien/long_run/vtk/channel_00019500.pvtu loaded and velocity components added.\n",
      "Data from /Users/corentinprados/Documents/Stage_M2/testALYA.nosync/Ancien/long_run/vtk/channel_00019800.pvtu loaded and velocity components added.\n",
      "Data from /Users/corentinprados/Documents/Stage_M2/testALYA.nosync/Ancien/long_run/vtk/channel_00020100.pvtu loaded and velocity components added.\n",
      "Data from /Users/corentinprados/Documents/Stage_M2/testALYA.nosync/Ancien/long_run/vtk/channel_00020400.pvtu loaded and velocity components added.\n",
      "Data from /Users/corentinprados/Documents/Stage_M2/testALYA.nosync/Ancien/long_run/vtk/channel_00020700.pvtu loaded and velocity components added.\n",
      "Data from /Users/corentinprados/Documents/Stage_M2/testALYA.nosync/Ancien/long_run/vtk/channel_00021000.pvtu loaded and velocity components added.\n",
      "Data from /Users/corentinprados/Documents/Stage_M2/testALYA.nosync/Ancien/long_run/vtk/channel_00021300.pvtu loaded and velocity components added.\n",
      "Data from /Users/corentinprados/Documents/Stage_M2/testALYA.nosync/Ancien/long_run/vtk/channel_00021600.pvtu loaded and velocity components added.\n",
      "Data from /Users/corentinprados/Documents/Stage_M2/testALYA.nosync/Ancien/long_run/vtk/channel_00021900.pvtu loaded and velocity components added.\n",
      "Data from /Users/corentinprados/Documents/Stage_M2/testALYA.nosync/Ancien/long_run/vtk/channel_00022200.pvtu loaded and velocity components added.\n",
      "Data from /Users/corentinprados/Documents/Stage_M2/testALYA.nosync/Ancien/long_run/vtk/channel_00022500.pvtu loaded and velocity components added.\n",
      "Data from /Users/corentinprados/Documents/Stage_M2/testALYA.nosync/Ancien/long_run/vtk/channel_00022800.pvtu loaded and velocity components added.\n",
      "Data from /Users/corentinprados/Documents/Stage_M2/testALYA.nosync/Ancien/long_run/vtk/channel_00023100.pvtu loaded and velocity components added.\n",
      "Data from /Users/corentinprados/Documents/Stage_M2/testALYA.nosync/Ancien/long_run/vtk/channel_00023400.pvtu loaded and velocity components added.\n",
      "Data from /Users/corentinprados/Documents/Stage_M2/testALYA.nosync/Ancien/long_run/vtk/channel_00023700.pvtu loaded and velocity components added.\n",
      "Data from /Users/corentinprados/Documents/Stage_M2/testALYA.nosync/Ancien/long_run/vtk/channel_00024000.pvtu loaded and velocity components added.\n",
      "Data from /Users/corentinprados/Documents/Stage_M2/testALYA.nosync/Ancien/long_run/vtk/channel_00024300.pvtu loaded and velocity components added.\n",
      "Data from /Users/corentinprados/Documents/Stage_M2/testALYA.nosync/Ancien/long_run/vtk/channel_00024600.pvtu loaded and velocity components added.\n",
      "Data from /Users/corentinprados/Documents/Stage_M2/testALYA.nosync/Ancien/long_run/vtk/channel_00024900.pvtu loaded and velocity components added.\n",
      "Data from /Users/corentinprados/Documents/Stage_M2/testALYA.nosync/Ancien/long_run/vtk/channel_00025200.pvtu loaded and velocity components added.\n",
      "Data from /Users/corentinprados/Documents/Stage_M2/testALYA.nosync/Ancien/long_run/vtk/channel_00025500.pvtu loaded and velocity components added.\n",
      "Data from /Users/corentinprados/Documents/Stage_M2/testALYA.nosync/Ancien/long_run/vtk/channel_00025800.pvtu loaded and velocity components added.\n",
      "Data from /Users/corentinprados/Documents/Stage_M2/testALYA.nosync/Ancien/long_run/vtk/channel_00026100.pvtu loaded and velocity components added.\n",
      "Data from /Users/corentinprados/Documents/Stage_M2/testALYA.nosync/Ancien/long_run/vtk/channel_00026400.pvtu loaded and velocity components added.\n",
      "Data from /Users/corentinprados/Documents/Stage_M2/testALYA.nosync/Ancien/long_run/vtk/channel_00026700.pvtu loaded and velocity components added.\n",
      "Data from /Users/corentinprados/Documents/Stage_M2/testALYA.nosync/Ancien/long_run/vtk/channel_00027000.pvtu loaded and velocity components added.\n",
      "Data from /Users/corentinprados/Documents/Stage_M2/testALYA.nosync/Ancien/long_run/vtk/channel_00027300.pvtu loaded and velocity components added.\n",
      "Data from /Users/corentinprados/Documents/Stage_M2/testALYA.nosync/Ancien/long_run/vtk/channel_00027600.pvtu loaded and velocity components added.\n",
      "Data from /Users/corentinprados/Documents/Stage_M2/testALYA.nosync/Ancien/long_run/vtk/channel_00027900.pvtu loaded and velocity components added.\n",
      "Data from /Users/corentinprados/Documents/Stage_M2/testALYA.nosync/Ancien/long_run/vtk/channel_00028200.pvtu loaded and velocity components added.\n",
      "Data from /Users/corentinprados/Documents/Stage_M2/testALYA.nosync/Ancien/long_run/vtk/channel_00028500.pvtu loaded and velocity components added.\n",
      "Data from /Users/corentinprados/Documents/Stage_M2/testALYA.nosync/Ancien/long_run/vtk/channel_00028800.pvtu loaded and velocity components added.\n",
      "Data from /Users/corentinprados/Documents/Stage_M2/testALYA.nosync/Ancien/long_run/vtk/channel_00029100.pvtu loaded and velocity components added.\n",
      "Data from /Users/corentinprados/Documents/Stage_M2/testALYA.nosync/Ancien/long_run/vtk/channel_00029400.pvtu loaded and velocity components added.\n",
      "Data from /Users/corentinprados/Documents/Stage_M2/testALYA.nosync/Ancien/long_run/vtk/channel_00029700.pvtu loaded and velocity components added.\n",
      "Data from /Users/corentinprados/Documents/Stage_M2/testALYA.nosync/Ancien/long_run/vtk/channel_00030000.pvtu loaded and velocity components added.\n",
      "Data from /Users/corentinprados/Documents/Stage_M2/testALYA.nosync/Ancien/long_run/vtk/channel_00030300.pvtu loaded and velocity components added.\n",
      "Data from /Users/corentinprados/Documents/Stage_M2/testALYA.nosync/Ancien/long_run/vtk/channel_00030600.pvtu loaded and velocity components added.\n",
      "Data from /Users/corentinprados/Documents/Stage_M2/testALYA.nosync/Ancien/long_run/vtk/channel_00030900.pvtu loaded and velocity components added.\n",
      "Data from /Users/corentinprados/Documents/Stage_M2/testALYA.nosync/Ancien/long_run/vtk/channel_00031200.pvtu loaded and velocity components added.\n",
      "Data from /Users/corentinprados/Documents/Stage_M2/testALYA.nosync/Ancien/long_run/vtk/channel_00031500.pvtu loaded and velocity components added.\n",
      "Data from /Users/corentinprados/Documents/Stage_M2/testALYA.nosync/Ancien/long_run/vtk/channel_00031800.pvtu loaded and velocity components added.\n",
      "Data from /Users/corentinprados/Documents/Stage_M2/testALYA.nosync/Ancien/long_run/vtk/channel_00032100.pvtu loaded and velocity components added.\n",
      "Data from /Users/corentinprados/Documents/Stage_M2/testALYA.nosync/Ancien/long_run/vtk/channel_00032400.pvtu loaded and velocity components added.\n",
      "Data from /Users/corentinprados/Documents/Stage_M2/testALYA.nosync/Ancien/long_run/vtk/channel_00032700.pvtu loaded and velocity components added.\n",
      "Data from /Users/corentinprados/Documents/Stage_M2/testALYA.nosync/Ancien/long_run/vtk/channel_00033000.pvtu loaded and velocity components added.\n",
      "Data from /Users/corentinprados/Documents/Stage_M2/testALYA.nosync/Ancien/long_run/vtk/channel_00033300.pvtu loaded and velocity components added.\n",
      "Data from /Users/corentinprados/Documents/Stage_M2/testALYA.nosync/Ancien/long_run/vtk/channel_00033600.pvtu loaded and velocity components added.\n",
      "Data from /Users/corentinprados/Documents/Stage_M2/testALYA.nosync/Ancien/long_run/vtk/channel_00033900.pvtu loaded and velocity components added.\n",
      "Data from /Users/corentinprados/Documents/Stage_M2/testALYA.nosync/Ancien/long_run/vtk/channel_00034200.pvtu loaded and velocity components added.\n",
      "Data from /Users/corentinprados/Documents/Stage_M2/testALYA.nosync/Ancien/long_run/vtk/channel_00034500.pvtu loaded and velocity components added.\n",
      "Data from /Users/corentinprados/Documents/Stage_M2/testALYA.nosync/Ancien/long_run/vtk/channel_00034800.pvtu loaded and velocity components added.\n",
      "Data from /Users/corentinprados/Documents/Stage_M2/testALYA.nosync/Ancien/long_run/vtk/channel_00035100.pvtu loaded and velocity components added.\n",
      "Data from /Users/corentinprados/Documents/Stage_M2/testALYA.nosync/Ancien/long_run/vtk/channel_00035400.pvtu loaded and velocity components added.\n",
      "Data from /Users/corentinprados/Documents/Stage_M2/testALYA.nosync/Ancien/long_run/vtk/channel_00035700.pvtu loaded and velocity components added.\n",
      "Data from /Users/corentinprados/Documents/Stage_M2/testALYA.nosync/Ancien/long_run/vtk/channel_00036000.pvtu loaded and velocity components added.\n",
      "Data from /Users/corentinprados/Documents/Stage_M2/testALYA.nosync/Ancien/long_run/vtk/channel_00036300.pvtu loaded and velocity components added.\n",
      "Data from /Users/corentinprados/Documents/Stage_M2/testALYA.nosync/Ancien/long_run/vtk/channel_00036600.pvtu loaded and velocity components added.\n",
      "Data from /Users/corentinprados/Documents/Stage_M2/testALYA.nosync/Ancien/long_run/vtk/channel_00036900.pvtu loaded and velocity components added.\n",
      "Data from /Users/corentinprados/Documents/Stage_M2/testALYA.nosync/Ancien/long_run/vtk/channel_00037200.pvtu loaded and velocity components added.\n",
      "Data from /Users/corentinprados/Documents/Stage_M2/testALYA.nosync/Ancien/long_run/vtk/channel_00037500.pvtu loaded and velocity components added.\n",
      "Data from /Users/corentinprados/Documents/Stage_M2/testALYA.nosync/Ancien/long_run/vtk/channel_00037800.pvtu loaded and velocity components added.\n",
      "Data from /Users/corentinprados/Documents/Stage_M2/testALYA.nosync/Ancien/long_run/vtk/channel_00038100.pvtu loaded and velocity components added.\n",
      "Data from /Users/corentinprados/Documents/Stage_M2/testALYA.nosync/Ancien/long_run/vtk/channel_00038400.pvtu loaded and velocity components added.\n",
      "Data from /Users/corentinprados/Documents/Stage_M2/testALYA.nosync/Ancien/long_run/vtk/channel_00038700.pvtu loaded and velocity components added.\n",
      "Data from /Users/corentinprados/Documents/Stage_M2/testALYA.nosync/Ancien/long_run/vtk/channel_00039000.pvtu loaded and velocity components added.\n",
      "Data from /Users/corentinprados/Documents/Stage_M2/testALYA.nosync/Ancien/long_run/vtk/channel_00039300.pvtu loaded and velocity components added.\n",
      "Data from /Users/corentinprados/Documents/Stage_M2/testALYA.nosync/Ancien/long_run/vtk/channel_00039600.pvtu loaded and velocity components added.\n",
      "Data from /Users/corentinprados/Documents/Stage_M2/testALYA.nosync/Ancien/long_run/vtk/channel_00039900.pvtu loaded and velocity components added.\n",
      "Data from /Users/corentinprados/Documents/Stage_M2/testALYA.nosync/Ancien/long_run/vtk/channel_00040200.pvtu loaded and velocity components added.\n",
      "Data from /Users/corentinprados/Documents/Stage_M2/testALYA.nosync/Ancien/long_run/vtk/channel_00040500.pvtu loaded and velocity components added.\n",
      "Data from /Users/corentinprados/Documents/Stage_M2/testALYA.nosync/Ancien/long_run/vtk/channel_00040800.pvtu loaded and velocity components added.\n",
      "Data from /Users/corentinprados/Documents/Stage_M2/testALYA.nosync/Ancien/long_run/vtk/channel_00041100.pvtu loaded and velocity components added.\n",
      "Data from /Users/corentinprados/Documents/Stage_M2/testALYA.nosync/Ancien/long_run/vtk/channel_00041400.pvtu loaded and velocity components added.\n",
      "Data from /Users/corentinprados/Documents/Stage_M2/testALYA.nosync/Ancien/long_run/vtk/channel_00041700.pvtu loaded and velocity components added.\n",
      "Data from /Users/corentinprados/Documents/Stage_M2/testALYA.nosync/Ancien/long_run/vtk/channel_00042000.pvtu loaded and velocity components added.\n",
      "Data from /Users/corentinprados/Documents/Stage_M2/testALYA.nosync/Ancien/long_run/vtk/channel_00042300.pvtu loaded and velocity components added.\n",
      "Data from /Users/corentinprados/Documents/Stage_M2/testALYA.nosync/Ancien/long_run/vtk/channel_00042600.pvtu loaded and velocity components added.\n",
      "Data from /Users/corentinprados/Documents/Stage_M2/testALYA.nosync/Ancien/long_run/vtk/channel_00042900.pvtu loaded and velocity components added.\n",
      "Data from /Users/corentinprados/Documents/Stage_M2/testALYA.nosync/Ancien/long_run/vtk/channel_00043200.pvtu loaded and velocity components added.\n",
      "Data from /Users/corentinprados/Documents/Stage_M2/testALYA.nosync/Ancien/long_run/vtk/channel_00043500.pvtu loaded and velocity components added.\n",
      "Data from /Users/corentinprados/Documents/Stage_M2/testALYA.nosync/Ancien/long_run/vtk/channel_00043800.pvtu loaded and velocity components added.\n",
      "Data from /Users/corentinprados/Documents/Stage_M2/testALYA.nosync/Ancien/long_run/vtk/channel_00044100.pvtu loaded and velocity components added.\n",
      "Data from /Users/corentinprados/Documents/Stage_M2/testALYA.nosync/Ancien/long_run/vtk/channel_00044400.pvtu loaded and velocity components added.\n",
      "Data from /Users/corentinprados/Documents/Stage_M2/testALYA.nosync/Ancien/long_run/vtk/channel_00044700.pvtu loaded and velocity components added.\n",
      "Data from /Users/corentinprados/Documents/Stage_M2/testALYA.nosync/Ancien/long_run/vtk/channel_00045000.pvtu loaded and velocity components added.\n",
      "Data from /Users/corentinprados/Documents/Stage_M2/testALYA.nosync/Ancien/long_run/vtk/channel_00045300.pvtu loaded and velocity components added.\n",
      "Data from /Users/corentinprados/Documents/Stage_M2/testALYA.nosync/Ancien/long_run/vtk/channel_00045600.pvtu loaded and velocity components added.\n",
      "Data from /Users/corentinprados/Documents/Stage_M2/testALYA.nosync/Ancien/long_run/vtk/channel_00045900.pvtu loaded and velocity components added.\n",
      "Data from /Users/corentinprados/Documents/Stage_M2/testALYA.nosync/Ancien/long_run/vtk/channel_00046200.pvtu loaded and velocity components added.\n",
      "Data from /Users/corentinprados/Documents/Stage_M2/testALYA.nosync/Ancien/long_run/vtk/channel_00046500.pvtu loaded and velocity components added.\n",
      "Data from /Users/corentinprados/Documents/Stage_M2/testALYA.nosync/Ancien/long_run/vtk/channel_00046800.pvtu loaded and velocity components added.\n",
      "Data from /Users/corentinprados/Documents/Stage_M2/testALYA.nosync/Ancien/long_run/vtk/channel_00047100.pvtu loaded and velocity components added.\n",
      "Data from /Users/corentinprados/Documents/Stage_M2/testALYA.nosync/Ancien/long_run/vtk/channel_00047400.pvtu loaded and velocity components added.\n",
      "Data from /Users/corentinprados/Documents/Stage_M2/testALYA.nosync/Ancien/long_run/vtk/channel_00047700.pvtu loaded and velocity components added.\n",
      "Data from /Users/corentinprados/Documents/Stage_M2/testALYA.nosync/Ancien/long_run/vtk/channel_00048000.pvtu loaded and velocity components added.\n",
      "Data from /Users/corentinprados/Documents/Stage_M2/testALYA.nosync/Ancien/long_run/vtk/channel_00048300.pvtu loaded and velocity components added.\n",
      "Data from /Users/corentinprados/Documents/Stage_M2/testALYA.nosync/Ancien/long_run/vtk/channel_00048600.pvtu loaded and velocity components added.\n",
      "Data from /Users/corentinprados/Documents/Stage_M2/testALYA.nosync/Ancien/long_run/vtk/channel_00048900.pvtu loaded and velocity components added.\n",
      "Data from /Users/corentinprados/Documents/Stage_M2/testALYA.nosync/Ancien/long_run/vtk/channel_00049200.pvtu loaded and velocity components added.\n",
      "Data from /Users/corentinprados/Documents/Stage_M2/testALYA.nosync/Ancien/long_run/vtk/channel_00049500.pvtu loaded and velocity components added.\n",
      "Data from /Users/corentinprados/Documents/Stage_M2/testALYA.nosync/Ancien/long_run/vtk/channel_00049800.pvtu loaded and velocity components added.\n",
      "Data from /Users/corentinprados/Documents/Stage_M2/testALYA.nosync/Ancien/long_run/vtk/channel_00050100.pvtu loaded and velocity components added.\n",
      "Data from /Users/corentinprados/Documents/Stage_M2/testALYA.nosync/Ancien/long_run/vtk/channel_00050400.pvtu loaded and velocity components added.\n",
      "Data from /Users/corentinprados/Documents/Stage_M2/testALYA.nosync/Ancien/long_run/vtk/channel_00050700.pvtu loaded and velocity components added.\n",
      "Data from /Users/corentinprados/Documents/Stage_M2/testALYA.nosync/Ancien/long_run/vtk/channel_00051000.pvtu loaded and velocity components added.\n",
      "Data from /Users/corentinprados/Documents/Stage_M2/testALYA.nosync/Ancien/long_run/vtk/channel_00051300.pvtu loaded and velocity components added.\n",
      "Data from /Users/corentinprados/Documents/Stage_M2/testALYA.nosync/Ancien/long_run/vtk/channel_00051600.pvtu loaded and velocity components added.\n",
      "Data from /Users/corentinprados/Documents/Stage_M2/testALYA.nosync/Ancien/long_run/vtk/channel_00051900.pvtu loaded and velocity components added.\n",
      "Total data sets processed: 174\n"
     ]
    }
   ],
   "source": [
    "# Path to the directory containing the simulation files\n",
    "\n",
    "directory_path = Path('/Users/corentinprados/Documents/Stage_M2/testALYA.nosync/Ancien/long_run/vtk')\n",
    "\n",
    "# Load the data and store it in `data`\n",
    "data = load_data_and_average_velocity(directory_path)"
   ]
  },
  {
   "cell_type": "code",
   "execution_count": 113,
   "id": "562d6230-4c84-4f97-8e73-7fad32e6993c",
   "metadata": {},
   "outputs": [
    {
     "data": {
      "text/plain": [
       "<matplotlib.collections.PathCollection at 0x322c7bac0>"
      ]
     },
     "execution_count": 113,
     "metadata": {},
     "output_type": "execute_result"
    },
    {
     "data": {
      "image/png": "[encoded data removed]",
      "text/plain": [
       "<Figure size 640x480 with 1 Axes>"
      ]
     },
     "metadata": {},
     "output_type": "display_data"
    }
   ],
   "source": [
    "plt.scatter(data['y'],data['u'])"
   ]
  },
  {
   "cell_type": "code",
   "execution_count": 28,
   "id": "90311203-0b46-4e91-8d80-5b9b3e3cfd4f",
   "metadata": {},
   "outputs": [
    {
     "data": {
      "text/plain": [
       "2.0"
      ]
     },
     "execution_count": 28,
     "metadata": {},
     "output_type": "execute_result"
    }
   ],
   "source": [
    "max(data['y'])"
   ]
  },
  {
   "cell_type": "markdown",
   "id": "efc806ec-7bff-4705-80bd-2788f2d52c2d",
   "metadata": {},
   "source": [
    "# Normalization"
   ]
  },
  {
   "cell_type": "code",
   "execution_count": 129,
   "id": "12cbec4f-ab7e-44b3-abc9-fa47fece3533",
   "metadata": {},
   "outputs": [],
   "source": [
    "def normalize_data(averaged_data, nu):\n",
    "    \"\"\"\n",
    "    Normalizes the velocity components and the coordinates (x, y, z) in the averaged_data DataFrame using:\n",
    "    u_tau = (Omega_bar * nu) ** 0.5 and y^+ = y * u_tau / nu (similarly for x and z)\n",
    "    \n",
    "    Parameters:\n",
    "    - averaged_data (DataFrame): DataFrame with columns for spatial coordinates (x, y, z) and\n",
    "      time-averaged velocity components (u, v, w).\n",
    "    - nu (float): Kinematic viscosity of the fluid.\n",
    "    \n",
    "    Returns:\n",
    "    - averaged_data_normalized (DataFrame): DataFrame with the same columns as averaged_data,\n",
    "      where the velocity components and coordinates (x, y, z) have been normalized.\n",
    "    \"\"\"\n",
    "    # Group by the 'y' coordinate and compute the mean of the velocities u, v, w across x and z\n",
    "    grouped = averaged_data.groupby('y').mean()\n",
    "    u_y = grouped['u']\n",
    "    y = grouped.index.values\n",
    "\n",
    "    # Compute delta_u and delta_y at the minimum y (wall)\n",
    "    delta_u_min = u_y.iloc[1] - u_y.iloc[0]\n",
    "    delta_y_min = y[1] - y[0]\n",
    "    Omega_bar_min = delta_u_min / delta_y_min\n",
    "\n",
    "    # Compute delta_u and delta_y at the maximum y (wall)\n",
    "    delta_u_max = u_y.iloc[-2] - u_y.iloc[-1]\n",
    "    delta_y_max = y[-1] - y[-2]\n",
    "    Omega_bar_max = delta_u_max / delta_y_max\n",
    "\n",
    "    # Calculate u_tau at each wall and average them\n",
    "    u_tau_min = (Omega_bar_min * nu) ** 0.5\n",
    "    u_tau_max = (Omega_bar_max * nu) ** 0.5\n",
    "    u_tau = (u_tau_min + u_tau_max) / 2\n",
    "    print(f\"Calculated u_tau: {u_tau}\")\n",
    "\n",
    "    # Normalize the velocity components\n",
    "    averaged_data_normalized = averaged_data.copy()\n",
    "    averaged_data_normalized['u'] /= u_tau\n",
    "    averaged_data_normalized['v'] /= u_tau\n",
    "    averaged_data_normalized['w'] /= u_tau\n",
    "\n",
    "    # Normalize the coordinates 'x', 'y', 'z'\n",
    "    averaged_data_normalized['x'] = averaged_data_normalized['x'] * u_tau / nu\n",
    "    averaged_data_normalized['y'] = averaged_data_normalized['y'] * u_tau / nu\n",
    "    averaged_data_normalized['z'] = averaged_data_normalized['z'] * u_tau / nu\n",
    "\n",
    "    return averaged_data_normalized\n"
   ]
  },
  {
   "cell_type": "code",
   "execution_count": 130,
   "id": "6f521c97-7696-426b-861a-ba8a0d95535f",
   "metadata": {},
   "outputs": [
    {
     "name": "stdout",
     "output_type": "stream",
     "text": [
      "Calculated u_tau: 0.05416718810813898\n"
     ]
    }
   ],
   "source": [
    "nu = 0.0003546986585888876\n",
    "normalized_data = normalize_data(data, nu)\n"
   ]
  },
  {
   "cell_type": "code",
   "execution_count": 131,
   "id": "bdb1f481-2557-4e1e-91dd-b10e90f16c5a",
   "metadata": {},
   "outputs": [
    {
     "data": {
      "text/plain": [
       "<matplotlib.collections.PathCollection at 0x323ef7ca0>"
      ]
     },
     "execution_count": 131,
     "metadata": {},
     "output_type": "execute_result"
    },
    {
     "data": {
      "image/png": "[encoded data removed]",
      "text/plain": [
       "<Figure size 640x480 with 1 Axes>"
      ]
     },
     "metadata": {},
     "output_type": "display_data"
    }
   ],
   "source": [
    "plt.scatter(normalized_data['y'], normalized_data['u'])"
   ]
  },
  {
   "cell_type": "markdown",
   "id": "f9892693-9a77-466c-92b1-8248a2047d69",
   "metadata": {},
   "source": [
    "A faire :\n",
    "- u fluctuation\n",
    "- Ecire une fonction pour vérifer que Re = 180 "
   ]
  }
 ],
 "metadata": {
  "kernelspec": {
   "display_name": "Python 3 (ipykernel)",
   "language": "python",
   "name": "python3"
  },
  "language_info": {
   "codemirror_mode": {
    "name": "ipython",
    "version": 3
   },
   "file_extension": ".py",
   "mimetype": "text/x-python",
   "name": "python",
   "nbconvert_exporter": "python",
   "pygments_lexer": "ipython3",
   "version": "3.10.14"
  }
 },
 "nbformat": 4,
 "nbformat_minor": 5
}
